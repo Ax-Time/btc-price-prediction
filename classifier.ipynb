{
 "cells": [
  {
   "cell_type": "code",
   "execution_count": 35,
   "metadata": {},
   "outputs": [
    {
     "data": {
      "text/html": [
       "<div>\n",
       "<style scoped>\n",
       "    .dataframe tbody tr th:only-of-type {\n",
       "        vertical-align: middle;\n",
       "    }\n",
       "\n",
       "    .dataframe tbody tr th {\n",
       "        vertical-align: top;\n",
       "    }\n",
       "\n",
       "    .dataframe thead th {\n",
       "        text-align: right;\n",
       "    }\n",
       "</style>\n",
       "<table border=\"1\" class=\"dataframe\">\n",
       "  <thead>\n",
       "    <tr style=\"text-align: right;\">\n",
       "      <th></th>\n",
       "      <th>unix</th>\n",
       "      <th>open</th>\n",
       "      <th>high</th>\n",
       "      <th>low</th>\n",
       "      <th>close</th>\n",
       "      <th>Volume BTC</th>\n",
       "      <th>Volume USD</th>\n",
       "    </tr>\n",
       "  </thead>\n",
       "  <tbody>\n",
       "    <tr>\n",
       "      <th>count</th>\n",
       "      <td>2.192000e+03</td>\n",
       "      <td>2192.000000</td>\n",
       "      <td>2192.000000</td>\n",
       "      <td>2192.000000</td>\n",
       "      <td>2192.000000</td>\n",
       "      <td>2.192000e+03</td>\n",
       "      <td>2.192000e+03</td>\n",
       "    </tr>\n",
       "    <tr>\n",
       "      <th>mean</th>\n",
       "      <td>1.514722e+09</td>\n",
       "      <td>5123.166638</td>\n",
       "      <td>5272.377637</td>\n",
       "      <td>4960.782660</td>\n",
       "      <td>5136.057441</td>\n",
       "      <td>1.604049e+07</td>\n",
       "      <td>3.488562e+07</td>\n",
       "    </tr>\n",
       "    <tr>\n",
       "      <th>std</th>\n",
       "      <td>5.468431e+07</td>\n",
       "      <td>4798.694398</td>\n",
       "      <td>4955.226070</td>\n",
       "      <td>4633.449376</td>\n",
       "      <td>4824.461973</td>\n",
       "      <td>5.143656e+07</td>\n",
       "      <td>5.614624e+07</td>\n",
       "    </tr>\n",
       "    <tr>\n",
       "      <th>min</th>\n",
       "      <td>1.420070e+09</td>\n",
       "      <td>162.000000</td>\n",
       "      <td>212.840000</td>\n",
       "      <td>152.400000</td>\n",
       "      <td>162.000000</td>\n",
       "      <td>0.000000e+00</td>\n",
       "      <td>0.000000e+00</td>\n",
       "    </tr>\n",
       "    <tr>\n",
       "      <th>25%</th>\n",
       "      <td>1.467396e+09</td>\n",
       "      <td>579.737500</td>\n",
       "      <td>588.037500</td>\n",
       "      <td>572.852500</td>\n",
       "      <td>581.760000</td>\n",
       "      <td>7.283284e+03</td>\n",
       "      <td>8.078573e+03</td>\n",
       "    </tr>\n",
       "    <tr>\n",
       "      <th>50%</th>\n",
       "      <td>1.514722e+09</td>\n",
       "      <td>4097.235000</td>\n",
       "      <td>4208.365000</td>\n",
       "      <td>3958.025000</td>\n",
       "      <td>4099.775000</td>\n",
       "      <td>9.328728e+05</td>\n",
       "      <td>2.759654e+04</td>\n",
       "    </tr>\n",
       "    <tr>\n",
       "      <th>75%</th>\n",
       "      <td>1.562047e+09</td>\n",
       "      <td>8629.675000</td>\n",
       "      <td>8835.342500</td>\n",
       "      <td>8314.757500</td>\n",
       "      <td>8629.715000</td>\n",
       "      <td>4.648965e+06</td>\n",
       "      <td>5.225920e+07</td>\n",
       "    </tr>\n",
       "    <tr>\n",
       "      <th>max</th>\n",
       "      <td>1.609373e+09</td>\n",
       "      <td>28893.210000</td>\n",
       "      <td>29300.000000</td>\n",
       "      <td>27930.750000</td>\n",
       "      <td>28992.790000</td>\n",
       "      <td>7.723295e+08</td>\n",
       "      <td>5.162108e+08</td>\n",
       "    </tr>\n",
       "  </tbody>\n",
       "</table>\n",
       "</div>"
      ],
      "text/plain": [
       "               unix          open          high           low         close  \\\n",
       "count  2.192000e+03   2192.000000   2192.000000   2192.000000   2192.000000   \n",
       "mean   1.514722e+09   5123.166638   5272.377637   4960.782660   5136.057441   \n",
       "std    5.468431e+07   4798.694398   4955.226070   4633.449376   4824.461973   \n",
       "min    1.420070e+09    162.000000    212.840000    152.400000    162.000000   \n",
       "25%    1.467396e+09    579.737500    588.037500    572.852500    581.760000   \n",
       "50%    1.514722e+09   4097.235000   4208.365000   3958.025000   4099.775000   \n",
       "75%    1.562047e+09   8629.675000   8835.342500   8314.757500   8629.715000   \n",
       "max    1.609373e+09  28893.210000  29300.000000  27930.750000  28992.790000   \n",
       "\n",
       "         Volume BTC    Volume USD  \n",
       "count  2.192000e+03  2.192000e+03  \n",
       "mean   1.604049e+07  3.488562e+07  \n",
       "std    5.143656e+07  5.614624e+07  \n",
       "min    0.000000e+00  0.000000e+00  \n",
       "25%    7.283284e+03  8.078573e+03  \n",
       "50%    9.328728e+05  2.759654e+04  \n",
       "75%    4.648965e+06  5.225920e+07  \n",
       "max    7.723295e+08  5.162108e+08  "
      ]
     },
     "execution_count": 35,
     "metadata": {},
     "output_type": "execute_result"
    }
   ],
   "source": [
    "import pandas as pd\n",
    "import datetime as dt\n",
    "\n",
    "dataset = pd.read_csv('./data/BTC-Daily.csv')\n",
    "\n",
    "# convert column date of dataset to datetime\n",
    "dataset['date'] = pd.to_datetime(dataset['date'])\n",
    "\n",
    "# filter dataset to get data from 2015-01-01 to 2016-12-31\n",
    "dataset = dataset[(dataset['date'] >= dt.datetime(2015, 1, 1)) & (dataset['date'] <= dt.datetime(2020, 12, 31))]\n",
    "\n",
    "# describe dataset\n",
    "dataset.describe()"
   ]
  },
  {
   "cell_type": "code",
   "execution_count": 36,
   "metadata": {},
   "outputs": [
    {
     "data": {
      "text/html": [
       "<div>\n",
       "<style scoped>\n",
       "    .dataframe tbody tr th:only-of-type {\n",
       "        vertical-align: middle;\n",
       "    }\n",
       "\n",
       "    .dataframe tbody tr th {\n",
       "        vertical-align: top;\n",
       "    }\n",
       "\n",
       "    .dataframe thead th {\n",
       "        text-align: right;\n",
       "    }\n",
       "</style>\n",
       "<table border=\"1\" class=\"dataframe\">\n",
       "  <thead>\n",
       "    <tr style=\"text-align: right;\">\n",
       "      <th></th>\n",
       "      <th>open</th>\n",
       "      <th>high</th>\n",
       "      <th>low</th>\n",
       "      <th>close</th>\n",
       "      <th>Volume USD</th>\n",
       "    </tr>\n",
       "  </thead>\n",
       "  <tbody>\n",
       "    <tr>\n",
       "      <th>count</th>\n",
       "      <td>2192.000000</td>\n",
       "      <td>2192.000000</td>\n",
       "      <td>2192.000000</td>\n",
       "      <td>2192.000000</td>\n",
       "      <td>2.192000e+03</td>\n",
       "    </tr>\n",
       "    <tr>\n",
       "      <th>mean</th>\n",
       "      <td>5123.166638</td>\n",
       "      <td>5272.377637</td>\n",
       "      <td>4960.782660</td>\n",
       "      <td>5136.057441</td>\n",
       "      <td>3.488562e+07</td>\n",
       "    </tr>\n",
       "    <tr>\n",
       "      <th>std</th>\n",
       "      <td>4798.694398</td>\n",
       "      <td>4955.226070</td>\n",
       "      <td>4633.449376</td>\n",
       "      <td>4824.461973</td>\n",
       "      <td>5.614624e+07</td>\n",
       "    </tr>\n",
       "    <tr>\n",
       "      <th>min</th>\n",
       "      <td>162.000000</td>\n",
       "      <td>212.840000</td>\n",
       "      <td>152.400000</td>\n",
       "      <td>162.000000</td>\n",
       "      <td>0.000000e+00</td>\n",
       "    </tr>\n",
       "    <tr>\n",
       "      <th>25%</th>\n",
       "      <td>579.737500</td>\n",
       "      <td>588.037500</td>\n",
       "      <td>572.852500</td>\n",
       "      <td>581.760000</td>\n",
       "      <td>8.078573e+03</td>\n",
       "    </tr>\n",
       "    <tr>\n",
       "      <th>50%</th>\n",
       "      <td>4097.235000</td>\n",
       "      <td>4208.365000</td>\n",
       "      <td>3958.025000</td>\n",
       "      <td>4099.775000</td>\n",
       "      <td>2.759654e+04</td>\n",
       "    </tr>\n",
       "    <tr>\n",
       "      <th>75%</th>\n",
       "      <td>8629.675000</td>\n",
       "      <td>8835.342500</td>\n",
       "      <td>8314.757500</td>\n",
       "      <td>8629.715000</td>\n",
       "      <td>5.225920e+07</td>\n",
       "    </tr>\n",
       "    <tr>\n",
       "      <th>max</th>\n",
       "      <td>28893.210000</td>\n",
       "      <td>29300.000000</td>\n",
       "      <td>27930.750000</td>\n",
       "      <td>28992.790000</td>\n",
       "      <td>5.162108e+08</td>\n",
       "    </tr>\n",
       "  </tbody>\n",
       "</table>\n",
       "</div>"
      ],
      "text/plain": [
       "               open          high           low         close    Volume USD\n",
       "count   2192.000000   2192.000000   2192.000000   2192.000000  2.192000e+03\n",
       "mean    5123.166638   5272.377637   4960.782660   5136.057441  3.488562e+07\n",
       "std     4798.694398   4955.226070   4633.449376   4824.461973  5.614624e+07\n",
       "min      162.000000    212.840000    152.400000    162.000000  0.000000e+00\n",
       "25%      579.737500    588.037500    572.852500    581.760000  8.078573e+03\n",
       "50%     4097.235000   4208.365000   3958.025000   4099.775000  2.759654e+04\n",
       "75%     8629.675000   8835.342500   8314.757500   8629.715000  5.225920e+07\n",
       "max    28893.210000  29300.000000  27930.750000  28992.790000  5.162108e+08"
      ]
     },
     "execution_count": 36,
     "metadata": {},
     "output_type": "execute_result"
    }
   ],
   "source": [
    "import numpy as np\n",
    "\n",
    "# preserve only open, high, low, close, volume usd columns\n",
    "dataset = dataset[['open', 'high', 'low', 'close', 'Volume USD']]\n",
    "dataset.describe()"
   ]
  },
  {
   "cell_type": "code",
   "execution_count": 37,
   "metadata": {},
   "outputs": [],
   "source": [
    "# extract close column\n",
    "close = dataset['close'].copy()\n",
    "\n",
    "# drop close column from dataset\n",
    "dataset.drop('close', axis=1, inplace=True)"
   ]
  },
  {
   "cell_type": "code",
   "execution_count": 38,
   "metadata": {},
   "outputs": [
    {
     "data": {
      "text/html": [
       "<div>\n",
       "<style scoped>\n",
       "    .dataframe tbody tr th:only-of-type {\n",
       "        vertical-align: middle;\n",
       "    }\n",
       "\n",
       "    .dataframe tbody tr th {\n",
       "        vertical-align: top;\n",
       "    }\n",
       "\n",
       "    .dataframe thead th {\n",
       "        text-align: right;\n",
       "    }\n",
       "</style>\n",
       "<table border=\"1\" class=\"dataframe\">\n",
       "  <thead>\n",
       "    <tr style=\"text-align: right;\">\n",
       "      <th></th>\n",
       "      <th>open</th>\n",
       "      <th>high</th>\n",
       "      <th>low</th>\n",
       "      <th>Volume USD</th>\n",
       "    </tr>\n",
       "  </thead>\n",
       "  <tbody>\n",
       "    <tr>\n",
       "      <th>count</th>\n",
       "      <td>2192.000000</td>\n",
       "      <td>2192.000000</td>\n",
       "      <td>2192.000000</td>\n",
       "      <td>2.192000e+03</td>\n",
       "    </tr>\n",
       "    <tr>\n",
       "      <th>mean</th>\n",
       "      <td>5123.166638</td>\n",
       "      <td>5272.377637</td>\n",
       "      <td>4960.782660</td>\n",
       "      <td>3.488562e+07</td>\n",
       "    </tr>\n",
       "    <tr>\n",
       "      <th>std</th>\n",
       "      <td>4798.694398</td>\n",
       "      <td>4955.226070</td>\n",
       "      <td>4633.449376</td>\n",
       "      <td>5.614624e+07</td>\n",
       "    </tr>\n",
       "    <tr>\n",
       "      <th>min</th>\n",
       "      <td>162.000000</td>\n",
       "      <td>212.840000</td>\n",
       "      <td>152.400000</td>\n",
       "      <td>0.000000e+00</td>\n",
       "    </tr>\n",
       "    <tr>\n",
       "      <th>25%</th>\n",
       "      <td>579.737500</td>\n",
       "      <td>588.037500</td>\n",
       "      <td>572.852500</td>\n",
       "      <td>8.078573e+03</td>\n",
       "    </tr>\n",
       "    <tr>\n",
       "      <th>50%</th>\n",
       "      <td>4097.235000</td>\n",
       "      <td>4208.365000</td>\n",
       "      <td>3958.025000</td>\n",
       "      <td>2.759654e+04</td>\n",
       "    </tr>\n",
       "    <tr>\n",
       "      <th>75%</th>\n",
       "      <td>8629.675000</td>\n",
       "      <td>8835.342500</td>\n",
       "      <td>8314.757500</td>\n",
       "      <td>5.225920e+07</td>\n",
       "    </tr>\n",
       "    <tr>\n",
       "      <th>max</th>\n",
       "      <td>28893.210000</td>\n",
       "      <td>29300.000000</td>\n",
       "      <td>27930.750000</td>\n",
       "      <td>5.162108e+08</td>\n",
       "    </tr>\n",
       "  </tbody>\n",
       "</table>\n",
       "</div>"
      ],
      "text/plain": [
       "               open          high           low    Volume USD\n",
       "count   2192.000000   2192.000000   2192.000000  2.192000e+03\n",
       "mean    5123.166638   5272.377637   4960.782660  3.488562e+07\n",
       "std     4798.694398   4955.226070   4633.449376  5.614624e+07\n",
       "min      162.000000    212.840000    152.400000  0.000000e+00\n",
       "25%      579.737500    588.037500    572.852500  8.078573e+03\n",
       "50%     4097.235000   4208.365000   3958.025000  2.759654e+04\n",
       "75%     8629.675000   8835.342500   8314.757500  5.225920e+07\n",
       "max    28893.210000  29300.000000  27930.750000  5.162108e+08"
      ]
     },
     "execution_count": 38,
     "metadata": {},
     "output_type": "execute_result"
    }
   ],
   "source": [
    "dataset.describe()"
   ]
  },
  {
   "cell_type": "code",
   "execution_count": 39,
   "metadata": {},
   "outputs": [
    {
     "data": {
      "text/plain": [
       "count     2192.000000\n",
       "mean      5136.057441\n",
       "std       4824.461973\n",
       "min        162.000000\n",
       "25%        581.760000\n",
       "50%       4099.775000\n",
       "75%       8629.715000\n",
       "max      28992.790000\n",
       "Name: close, dtype: float64"
      ]
     },
     "execution_count": 39,
     "metadata": {},
     "output_type": "execute_result"
    }
   ],
   "source": [
    "close.describe()"
   ]
  },
  {
   "cell_type": "code",
   "execution_count": 40,
   "metadata": {},
   "outputs": [],
   "source": [
    "# convert labels to boolean\n",
    "close = close > close.shift(-1)\n",
    "close = np.array([int(c) for c in close])"
   ]
  },
  {
   "cell_type": "code",
   "execution_count": 41,
   "metadata": {},
   "outputs": [
    {
     "name": "stdout",
     "output_type": "stream",
     "text": [
      "(2177, 60)\n",
      "(2177,)\n"
     ]
    }
   ],
   "source": [
    "# enhance the dataset with the data from the previous n days\n",
    "n = 15\n",
    "\n",
    "dataset_enhanced = np.array(\n",
    "    [ \n",
    "        np.column_stack([dataset.to_numpy()[j,:] for j in range(i-n, i)]).flatten()\n",
    "        for i in range(n, len(dataset))\n",
    "    ]\n",
    ")\n",
    "labels = close[n:]\n",
    "\n",
    "# print shape of dataset_enhanced and labels\n",
    "print(dataset_enhanced.shape)\n",
    "print(labels.shape)"
   ]
  },
  {
   "cell_type": "code",
   "execution_count": 42,
   "metadata": {},
   "outputs": [],
   "source": [
    "# split dataset into training and test set and classify them with a linear SVM\n",
    "from sklearn.model_selection import train_test_split\n",
    "\n",
    "X_train, X_test, y_train, y_test = train_test_split(dataset_enhanced, labels, test_size=0.2, random_state=42)\n",
    "\n"
   ]
  },
  {
   "cell_type": "code",
   "execution_count": 43,
   "metadata": {},
   "outputs": [
    {
     "name": "stdout",
     "output_type": "stream",
     "text": [
      "0.48394495412844035\n"
     ]
    },
    {
     "name": "stderr",
     "output_type": "stream",
     "text": [
      "/Users/giacomocartechini/anaconda3/lib/python3.9/site-packages/sklearn/svm/_base.py:1206: ConvergenceWarning: Liblinear failed to converge, increase the number of iterations.\n",
      "  warnings.warn(\n"
     ]
    }
   ],
   "source": [
    "# try a linear SVC classifier\n",
    "\n",
    "from sklearn.svm import LinearSVC\n",
    "\n",
    "clf = LinearSVC(random_state=0, tol=1e-5, max_iter=1e4)\n",
    "clf.fit(X_train, y_train)\n",
    "\n",
    "# print accuracy of the classifier\n",
    "print(clf.score(X_test, y_test))"
   ]
  },
  {
   "cell_type": "code",
   "execution_count": 44,
   "metadata": {},
   "outputs": [
    {
     "name": "stderr",
     "output_type": "stream",
     "text": [
      "/Users/giacomocartechini/anaconda3/lib/python3.9/site-packages/skmultiflow/trees/hoeffding_tree.py:34: FutureWarning: 'HoeffdingTree' has been renamed to 'HoeffdingTreeClassifier' in v0.5.0.\n",
      "The old name will be removed in v0.7.0\n",
      "  warnings.warn(\"'HoeffdingTree' has been renamed to 'HoeffdingTreeClassifier' in v0.5.0.\\n\"\n"
     ]
    },
    {
     "name": "stdout",
     "output_type": "stream",
     "text": [
      "0.518348623853211\n"
     ]
    }
   ],
   "source": [
    "# try a hoeffding tree classifier\n",
    "\n",
    "from skmultiflow.trees import HoeffdingTree\n",
    "\n",
    "clf = HoeffdingTree()\n",
    "clf.fit(X_train, y_train)\n",
    "\n",
    "# print accuracy of the classifier\n",
    "print(clf.score(X_test, y_test))"
   ]
  },
  {
   "cell_type": "code",
   "execution_count": 45,
   "metadata": {},
   "outputs": [
    {
     "name": "stdout",
     "output_type": "stream",
     "text": [
      "Accuracy: 0.5045871559633027\n"
     ]
    }
   ],
   "source": [
    "# naive model that predicts the last observation from the training data\n",
    "\n",
    "y_pred = [y_test[i-1] for i in range(0, len(y_test))]\n",
    "\n",
    "acc = sum([1 if y_pred[i] == y_test[i] else 0 for i in range(0, len(y_test))]) / len(y_test)\n",
    "\n",
    "print('Accuracy:', acc)"
   ]
  },
  {
   "cell_type": "code",
   "execution_count": 59,
   "metadata": {},
   "outputs": [
    {
     "name": "stdout",
     "output_type": "stream",
     "text": [
      "0.5206422018348624\n"
     ]
    }
   ],
   "source": [
    "# try a random forest classifier\n",
    "\n",
    "from sklearn.ensemble import RandomForestClassifier\n",
    "\n",
    "clf = RandomForestClassifier(n_estimators=1000, max_depth=2, random_state=0)\n",
    "clf.fit(X_train, y_train)\n",
    "\n",
    "# print accuracy of the classifier\n",
    "print(clf.score(X_test, y_test))"
   ]
  },
  {
   "cell_type": "code",
   "execution_count": 65,
   "metadata": {},
   "outputs": [
    {
     "name": "stdout",
     "output_type": "stream",
     "text": [
      "0.5160550458715596\n"
     ]
    }
   ],
   "source": [
    "# build a streaming random patches model\n",
    "\n",
    "from skmultiflow.meta import StreamingRandomPatchesClassifier\n",
    "\n",
    "clf = StreamingRandomPatchesClassifier()\n",
    "clf.fit(X_train, y_train)\n",
    "\n",
    "# print accuracy of the classifier\n",
    "print(clf.score(X_test, y_test))"
   ]
  }
 ],
 "metadata": {
  "kernelspec": {
   "display_name": "base",
   "language": "python",
   "name": "python3"
  },
  "language_info": {
   "codemirror_mode": {
    "name": "ipython",
    "version": 3
   },
   "file_extension": ".py",
   "mimetype": "text/x-python",
   "name": "python",
   "nbconvert_exporter": "python",
   "pygments_lexer": "ipython3",
   "version": "3.9.12"
  },
  "orig_nbformat": 4,
  "vscode": {
   "interpreter": {
    "hash": "65674d365949702a2cbd0ee303aeee40ed5b5c2036632cd2f470b077f4b9336e"
   }
  }
 },
 "nbformat": 4,
 "nbformat_minor": 2
}
